{
 "cells": [
  {
   "cell_type": "markdown",
   "id": "d4ce39ba",
   "metadata": {},
   "source": [
    "# Integrasi Numerik - Metode Integral Trapezoida"
   ]
  },
  {
   "cell_type": "code",
   "execution_count": 1,
   "id": "b8f6caf6",
   "metadata": {},
   "outputs": [],
   "source": [
    "# Fungsi yang akan dicari integralnya\n",
    "def f(x):\n",
    "    return x ** 2"
   ]
  },
  {
   "cell_type": "code",
   "execution_count": 2,
   "id": "5867897a",
   "metadata": {},
   "outputs": [],
   "source": [
    "def hitung_error(numerik, analitik):\n",
    "    return abs(numerik - analitik)\n",
    "\n",
    "def hitung_h(batas_atas, batas_bawah, N):\n",
    "    return (batas_atas - batas_bawah) / N"
   ]
  },
  {
   "cell_type": "code",
   "execution_count": 3,
   "id": "b10ff3df",
   "metadata": {},
   "outputs": [
    {
     "name": "stdout",
     "output_type": "stream",
     "text": [
      "Cara analitik:\n",
      "Integral dari x^2 = 8.667\n"
     ]
    }
   ],
   "source": [
    "# Soal: Tentukan integral f(x) = x^2 pada range [1,3] dengan N=4\n",
    "# menggunakan Metode Trapezoida lalu bandingkan dengan metode analitik\n",
    "batas_atas = 3\n",
    "batas_bawah = 1\n",
    "N = 4\n",
    "h = hitung_h(batas_atas, batas_bawah, N)\n",
    "\n",
    "# Analitik\n",
    "# f(x) = x^2\n",
    "# integral dari f(x) = 1/3 x^3\n",
    "hasil_batas_atas = 1/3 * batas_atas ** 3\n",
    "hasil_batas_bawah = 1/3 * batas_bawah ** 3\n",
    "hasil_analitik = hasil_batas_atas - hasil_batas_bawah\n",
    "\n",
    "print(\"Cara analitik:\")\n",
    "print(f\"Integral dari x^2 = {round(hasil_analitik, 3)}\")"
   ]
  },
  {
   "cell_type": "code",
   "execution_count": 4,
   "id": "f5f6b9e2",
   "metadata": {},
   "outputs": [],
   "source": [
    "def trapezoida_integral(f, N, batas_atas, batas_bawah):\n",
    "    h = hitung_h(batas_atas, batas_bawah, N)\n",
    "    f_0 = f(batas_bawah)\n",
    "    f_n = f(batas_atas)\n",
    "    \n",
    "    i = batas_bawah + h\n",
    "    iter_result = 0\n",
    "    while(i < batas_atas):\n",
    "        iter_result += f(i)\n",
    "        i += h\n",
    "\n",
    "    return h/2 * (f_0 + 2 * iter_result + f_n)"
   ]
  },
  {
   "cell_type": "code",
   "execution_count": 5,
   "id": "b9aa98b3",
   "metadata": {},
   "outputs": [
    {
     "name": "stdout",
     "output_type": "stream",
     "text": [
      "Metode Integral Trapezoida:\n",
      "Integral dari x^2 = 8.75\n",
      "Nilai error: 0.083\n"
     ]
    }
   ],
   "source": [
    "hasil_numerik = trapezoida_integral(f=f, N=4, batas_atas=3, batas_bawah=1)\n",
    "nilai_error = hitung_error(hasil_analitik, hasil_numerik)\n",
    "\n",
    "print(\"Metode Integral Trapezoida:\")\n",
    "print(f\"Integral dari x^2 = {round(hasil_numerik, 3)}\")\n",
    "print(f\"Nilai error: {round(nilai_error, 3)}\")"
   ]
  }
 ],
 "metadata": {
  "kernelspec": {
   "display_name": ".venv",
   "language": "python",
   "name": "python3"
  },
  "language_info": {
   "codemirror_mode": {
    "name": "ipython",
    "version": 3
   },
   "file_extension": ".py",
   "mimetype": "text/x-python",
   "name": "python",
   "nbconvert_exporter": "python",
   "pygments_lexer": "ipython3",
   "version": "3.11.11"
  }
 },
 "nbformat": 4,
 "nbformat_minor": 5
}
