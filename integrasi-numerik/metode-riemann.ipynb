{
 "cells": [
  {
   "cell_type": "markdown",
   "id": "d4ce39ba",
   "metadata": {},
   "source": [
    "# Integrasi Numerik - Metode Integral Riemann"
   ]
  },
  {
   "cell_type": "code",
   "execution_count": 1,
   "id": "b8f6caf6",
   "metadata": {},
   "outputs": [],
   "source": [
    "# Fungsi yang akan dicari integralnya\n",
    "def f(x):\n",
    "    return x ** 2"
   ]
  },
  {
   "cell_type": "code",
   "execution_count": 2,
   "id": "5867897a",
   "metadata": {},
   "outputs": [],
   "source": [
    "def hitung_error(numerik, analitik):\n",
    "    return abs(numerik - analitik)"
   ]
  },
  {
   "cell_type": "code",
   "execution_count": null,
   "id": "b10ff3df",
   "metadata": {},
   "outputs": [
    {
     "name": "stdout",
     "output_type": "stream",
     "text": [
      "Cara analitik:\n",
      "Integral dari x^2 = 0.333\n"
     ]
    }
   ],
   "source": [
    "# Soal: Hitung integral dari x^2, dengan h = 0.1 dan nilai x = [0, 1]\n",
    "batas_atas = 1\n",
    "batas_bawah = 0\n",
    "h = 0.1\n",
    "\n",
    "# Analitik\n",
    "# f(x) = x^2\n",
    "# integral dari f(x) = 1/3 x^3\n",
    "hasil_batas_atas = 1/3 * batas_atas ** 3\n",
    "hasil_batas_bawah = 1/3 * batas_bawah ** 3\n",
    "hasil_analitik = hasil_batas_atas - hasil_batas_bawah\n",
    "\n",
    "print(\"Cara analitik:\")\n",
    "print(f\"Integral dari x^2 = {round(hasil_analitik, 3)}\")"
   ]
  },
  {
   "cell_type": "code",
   "execution_count": 4,
   "id": "570a6af1",
   "metadata": {},
   "outputs": [],
   "source": [
    "def riemann_integral(f, h, batas_atas, batas_bawah):\n",
    "    i = batas_bawah\n",
    "    iter_result = 0\n",
    "    while(i <= batas_atas):\n",
    "        iter_result += f(i)\n",
    "        i += h\n",
    "\n",
    "    return h * iter_result"
   ]
  },
  {
   "cell_type": "code",
   "execution_count": 5,
   "id": "b9aa98b3",
   "metadata": {},
   "outputs": [
    {
     "name": "stdout",
     "output_type": "stream",
     "text": [
      "Metode Integral Riemann:\n",
      "Integral dari x^2 = 0.385\n",
      "Nilai error: 0.052\n"
     ]
    }
   ],
   "source": [
    "hasil_numerik = riemann_integral(f=f, h=0.1, batas_atas=1, batas_bawah=0)\n",
    "nilai_error = hitung_error(hasil_analitik, hasil_numerik)\n",
    "\n",
    "print(\"Metode Integral Riemann:\")\n",
    "print(f\"Integral dari x^2 = {round(hasil_numerik, 3)}\")\n",
    "print(f\"Nilai error: {round(nilai_error, 3)}\")"
   ]
  }
 ],
 "metadata": {
  "kernelspec": {
   "display_name": ".venv",
   "language": "python",
   "name": "python3"
  },
  "language_info": {
   "codemirror_mode": {
    "name": "ipython",
    "version": 3
   },
   "file_extension": ".py",
   "mimetype": "text/x-python",
   "name": "python",
   "nbconvert_exporter": "python",
   "pygments_lexer": "ipython3",
   "version": "3.11.11"
  }
 },
 "nbformat": 4,
 "nbformat_minor": 5
}
