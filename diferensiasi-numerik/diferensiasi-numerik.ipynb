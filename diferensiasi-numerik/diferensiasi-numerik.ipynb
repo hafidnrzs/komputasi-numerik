{
 "cells": [
  {
   "cell_type": "code",
   "execution_count": 13,
   "id": "8dfcb3be",
   "metadata": {},
   "outputs": [
    {
     "name": "stdout",
     "output_type": "stream",
     "text": [
      "Hasil analitik dari turunan fungsi f(x) = x^2\n",
      "f'(x) = 3x^2\n",
      "x=2, f'(2) = 12\n"
     ]
    }
   ],
   "source": [
    "# Fungsi yang akan dicari turunannya\n",
    "# f(x) = x^3\n",
    "def f(x):\n",
    "  return x**3\n",
    "\n",
    "def hitung_error(hasil_numerik, hasil_analitik):\n",
    "  return abs( (hasil_numerik - hasil_analitik ) / hasil_analitik)\n",
    "\n",
    "# x=2, h=0.1\n",
    "x = 2\n",
    "h = 0.1\n",
    "\n",
    "# turunan fungsi f'(x) = 3x^2\n",
    "print(\"Hasil analitik dari turunan fungsi f(x) = x^2\")\n",
    "print(\"f'(x) = 3x^2\")\n",
    "hasil_analitik = 3 * x ** 2\n",
    "print(f\"x=2, f'(2) = {hasil_analitik}\")"
   ]
  },
  {
   "cell_type": "code",
   "execution_count": 14,
   "id": "841de614",
   "metadata": {},
   "outputs": [
    {
     "name": "stdout",
     "output_type": "stream",
     "text": [
      "Hasil numerik dari turunan fungsi f(x) dengan metode selisih maju\n",
      "x=2, f'(2) = 12.61000000000001\n",
      "Error: 5.083%\n"
     ]
    }
   ],
   "source": [
    "# Metode selisih maju\n",
    "def selisih_maju(fungsi, x, h):\n",
    "  return ( fungsi(x + h) - fungsi(x) ) / h\n",
    "\n",
    "hasil_numerik = selisih_maju(f, x, h)\n",
    "print(\"Hasil numerik dari turunan fungsi f(x) dengan metode selisih maju\")\n",
    "print(f\"x=2, f'(2) = {hasil_numerik}\")\n",
    "\n",
    "error_persen = hitung_error(hasil_numerik, hasil_analitik) * 100\n",
    "print(f\"Error: {error_persen:.3f}%\")"
   ]
  },
  {
   "cell_type": "code",
   "execution_count": 15,
   "id": "35fa3720",
   "metadata": {},
   "outputs": [
    {
     "name": "stdout",
     "output_type": "stream",
     "text": [
      "Hasil numerik dari turunan fungsi f(x) dengan metode selisih tengahan\n",
      "x=2, f'(2) = 12.010000000000009\n",
      "Error: 0.083%\n"
     ]
    }
   ],
   "source": [
    "# Metode selisih tengahan\n",
    "def selisih_tengahan(fungsi, x, h):\n",
    "  return ( fungsi(x + h) - fungsi(x - h) ) / (2 * h)\n",
    "\n",
    "hasil_numerik = selisih_tengahan(f, x, h)\n",
    "print(\"Hasil numerik dari turunan fungsi f(x) dengan metode selisih tengahan\")\n",
    "print(f\"x=2, f'(2) = {hasil_numerik}\")\n",
    "\n",
    "error_persen = hitung_error(hasil_numerik, hasil_analitik) * 100\n",
    "print(f\"Error: {error_persen:.3f}%\")"
   ]
  },
  {
   "cell_type": "code",
   "execution_count": 16,
   "id": "be23d26c",
   "metadata": {},
   "outputs": [
    {
     "name": "stdout",
     "output_type": "stream",
     "text": [
      "Hasil numerik dari turunan fungsi f(x) dengan metode selisih mundur\n",
      "x=2, f'(2) = 11.410000000000009\n",
      "Error: 4.917%\n"
     ]
    }
   ],
   "source": [
    "# Metode selisih mundur\n",
    "def selisih_mundur(fungsi, x, h):\n",
    "  return ( fungsi(x) - fungsi(x - h) ) / h\n",
    "\n",
    "hasil_numerik = selisih_mundur(f, x, h)\n",
    "print(\"Hasil numerik dari turunan fungsi f(x) dengan metode selisih mundur\")\n",
    "print(f\"x=2, f'(2) = {hasil_numerik}\")\n",
    "\n",
    "error_persen = hitung_error(hasil_numerik, hasil_analitik) * 100\n",
    "print(f\"Error: {error_persen:.3f}%\")"
   ]
  }
 ],
 "metadata": {
  "kernelspec": {
   "display_name": ".venv",
   "language": "python",
   "name": "python3"
  },
  "language_info": {
   "codemirror_mode": {
    "name": "ipython",
    "version": 3
   },
   "file_extension": ".py",
   "mimetype": "text/x-python",
   "name": "python",
   "nbconvert_exporter": "python",
   "pygments_lexer": "ipython3",
   "version": "3.10.16"
  }
 },
 "nbformat": 4,
 "nbformat_minor": 5
}
