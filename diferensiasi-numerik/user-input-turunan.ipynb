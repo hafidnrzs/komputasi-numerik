{
 "cells": [
  {
   "cell_type": "code",
   "execution_count": 1,
   "id": "ad2fed7a",
   "metadata": {},
   "outputs": [],
   "source": [
    "import re\n",
    "\n",
    "def parse_input(input_str):\n",
    "  input_str = input_str.strip()\n",
    "  \n",
    "  float_or_int = r'-?(?:\\d+)(?:\\.\\d+)?'\n",
    "  frac_pattern = rf'({float_or_int})\\s*\\/\\s*({float_or_int})'\n",
    "\n",
    "  frac_match = re.fullmatch(frac_pattern, input_str)\n",
    "  if frac_match:\n",
    "    numerator, denominator = map(float, frac_match.groups())\n",
    "    if denominator == 0:\n",
    "      raise ZeroDivisionError(\"Pembagi tidak boleh nol\")\n",
    "    return input_str\n",
    "  \n",
    "  if ' ' in input_str:\n",
    "    raise ValueError(f\"Format tidak valid: {input_str}\")\n",
    "  \n",
    "  if re.fullmatch(rf'{float_or_int}', input_str):\n",
    "    return input_str\n",
    "  \n",
    "  raise ValueError(f\"Format tidak valid: {input_str}\")\n"
   ]
  },
  {
   "cell_type": "code",
   "execution_count": 2,
   "id": "5a9e28f3",
   "metadata": {},
   "outputs": [],
   "source": [
    "def to_python_expr(coeff, degree):\n",
    "  if coeff in [\"0\", \"0.0\"]:\n",
    "    return None\n",
    "  if '/' in coeff:\n",
    "    coeff_str = f\"({coeff})\"\n",
    "  else:\n",
    "    coeff_str = coeff\n",
    "  if degree == 0:\n",
    "    return f\"{coeff_str}\"\n",
    "  elif degree == 1:\n",
    "    return f\"{coeff_str}*x\"\n",
    "  else:\n",
    "    return f\"{coeff_str}*x**{degree}\"\n"
   ]
  },
  {
   "cell_type": "code",
   "execution_count": 3,
   "id": "2769934a",
   "metadata": {},
   "outputs": [],
   "source": [
    "def to_pretty_string(coeff, degree):\n",
    "  if coeff in [\"0\", \"0.0\"]:\n",
    "    return None\n",
    "  if coeff in [\"1\", \"1.0\"]:\n",
    "    c = \"\"\n",
    "  elif coeff in [\"-1\", [-1.0]]:\n",
    "    c = \"-\"\n",
    "  else:\n",
    "    c = coeff\n",
    "  \n",
    "  if degree == 0:\n",
    "    return f\"{c}\"\n",
    "  elif degree == 1:\n",
    "    return f\"{c}x\"\n",
    "  else:\n",
    "    return f\"{c}x^{degree}\""
   ]
  },
  {
   "cell_type": "code",
   "execution_count": 4,
   "id": "d976dcca",
   "metadata": {},
   "outputs": [],
   "source": [
    "def format_derivative_string(expr):\n",
    "  expr = expr.strip()\n",
    "  tokens = re.findall(r'[+-]?[^+-]+', expr)\n",
    "  derived_terms = []\n",
    "\n",
    "  for term in tokens:\n",
    "    term = term.strip()\n",
    "    if term == \"\":\n",
    "      continue\n",
    "\n",
    "    if 'x' not in term:\n",
    "      continue\n",
    "\n",
    "    power = 1\n",
    "    power_match = re.search(r'x\\*\\*(\\-?\\d+)', term)\n",
    "    if power_match:\n",
    "      power = int(power_match.group(1))\n",
    "    else:\n",
    "      power = 1\n",
    "\n",
    "    coef_match = re.match(r'([+-]?[\\d\\./\\(\\)]+)?\\*?x', term)\n",
    "    if coef_match:\n",
    "      coef_str = coef_match.group(1)\n",
    "      if coef_str is None or coef_str.strip() == '' or coef_str == '+':\n",
    "        coef = 1\n",
    "      elif coef_str == '-':\n",
    "        coef = -1\n",
    "      else:\n",
    "        coef = eval(coef_str)\n",
    "    else:\n",
    "      coef = 1\n",
    "    \n",
    "    new_coef = power * coef\n",
    "    new_power = power - 1\n",
    "\n",
    "    sign = \"-\" if new_coef < 0 else \"+\"\n",
    "    abs_coef = abs(new_coef)\n",
    "\n",
    "    if abs_coef == 1 and new_power > 0:\n",
    "      coef_part = \"\"\n",
    "    else:\n",
    "      coef_part = str(abs_coef)\n",
    "\n",
    "    if new_power == 0:\n",
    "      term_str = f\"{coef_part}\"\n",
    "    elif new_power == 1:\n",
    "      term_str = f\"{coef_part}x\"\n",
    "    else:\n",
    "      term_str = f\"{coef_part}x^{new_power}\"\n",
    "\n",
    "    derived_terms.append((sign, term_str))\n",
    "\n",
    "  if not derived_terms:\n",
    "    return \"0\"\n",
    "  \n",
    "  result = \"\"\n",
    "  for i, (sign, term) in enumerate(derived_terms):\n",
    "    if i == 0:\n",
    "      result += f\"{'-' if sign == '-' else ''}{term}\"\n",
    "    else:\n",
    "      result += f\"{sign} {term}\"\n",
    "  \n",
    "  return result"
   ]
  },
  {
   "cell_type": "code",
   "execution_count": 5,
   "id": "de4a1310",
   "metadata": {},
   "outputs": [
    {
     "name": "stdout",
     "output_type": "stream",
     "text": [
      "Masukkan koefisien untuk fungsi polinomial f(x). Masukkan 0 jika tidak ada\n",
      "x^4: 0\n",
      "x^3: 1\n",
      "x^2: 0\n",
      "x: 0\n",
      "konstanta: 0\n",
      "\n",
      "Persamaan yang dibentuk:\n",
      "f(x) = x^3\n",
      "\n",
      "Ekspresi Python (f(x)):\n",
      "f(x) = 1*x**3\n",
      "\n",
      "Ekspresi turunan (Python):\n",
      "f'(x) = 3*x**2\n",
      "\n",
      "Turunan (format string):\n",
      "f'(x) = 3x^2\n"
     ]
    }
   ],
   "source": [
    "print(\"Masukkan koefisien untuk fungsi polinomial f(x). Masukkan 0 jika tidak ada\")\n",
    "inputs = []\n",
    "# input user dari pangkat 4 sampai konstanta\n",
    "for deg in range(4, -1, -1):\n",
    "  label = f\"x^{deg}\" if deg > 1 else \"x\" if deg == 1 else \"konstanta\"\n",
    "  raw = input(f\"{label}: \")\n",
    "  parsed = parse_input(raw)\n",
    "  inputs.append(parsed)\n",
    "  print(f\"{label}: {parsed}\")\n",
    "\n",
    "# format fungsi\n",
    "pretty_terms = [to_pretty_string(c, d) for c, d in zip(inputs, range(4, -1, -1))]\n",
    "pretty_terms = [t for t in pretty_terms if t is not None]\n",
    "pretty_expr = \" + \".join(pretty_terms).replace(\"+-\", \"- \")\n",
    "\n",
    "python_terms = [to_python_expr(c, d) for c, d in zip(inputs, range(4, -1, -1))]\n",
    "python_terms = [t for t in python_terms if t is not None]\n",
    "expr = \" + \".join(python_terms).replace(\"+-\", \"- \")\n",
    "\n",
    "print(\"\\nPersamaan yang dibentuk:\")\n",
    "print(f\"f(x) = {pretty_expr}\")\n",
    "\n",
    "print(\"\\nEkspresi Python (f(x)):\")\n",
    "print(f\"f(x) = {expr}\")\n",
    "\n",
    "print(\"\\nEkspresi turunan (Python):\")\n",
    "derivative_expr = []\n",
    "for t in python_terms:\n",
    "  match = re.match(r'\\(?([-\\d./]+)\\)?\\*x\\*\\*(\\d+)', t)\n",
    "  if match:\n",
    "    coef, power = match.groups()\n",
    "    coef = eval(coef)\n",
    "    power = int(power)\n",
    "    new_coef = coef * power\n",
    "    new_power = power - 1\n",
    "    if new_power == 0:\n",
    "      derivative_expr.append(f\"{new_coef}\")\n",
    "    elif new_power == 1:\n",
    "      derivative_expr.append(f\"{new_coef}*x\")\n",
    "    else:\n",
    "      derivative_expr.append(f\"{new_coef}*x**{new_power}\")\n",
    "  else:\n",
    "    match = re.match(r'\\(?([-\\d./]+)\\)?\\*x', t)\n",
    "    if match:\n",
    "      coef = eval(match.group(1))\n",
    "      derivative_expr.append(str(coef))\n",
    "\n",
    "print(\"f'(x) =\", \" + \".join(derivative_expr).replace(\"+-\", \"- \"))\n",
    "\n",
    "print(\"\\nTurunan (format string):\")\n",
    "print(\"f'(x) =\", format_derivative_string(expr))"
   ]
  },
  {
   "cell_type": "code",
   "execution_count": 6,
   "id": "7f36b1cc",
   "metadata": {},
   "outputs": [
    {
     "name": "stdout",
     "output_type": "stream",
     "text": [
      "\n",
      "Hasil analitik dari turunan fungsi f(x) = 12\n"
     ]
    }
   ],
   "source": [
    "# Evaluasi turunan di x = 2\n",
    "x = 2\n",
    "h = 0.1\n",
    "f = eval(f\"lambda x: {expr}\")\n",
    "\n",
    "hasil_analitik = eval(\" + \".join(derivative_expr).replace(\"+-\", \"- \"))\n",
    "print(f\"\\nHasil analitik dari turunan fungsi f(x) = {hasil_analitik}\")"
   ]
  },
  {
   "cell_type": "code",
   "execution_count": 7,
   "id": "08c80b15",
   "metadata": {},
   "outputs": [],
   "source": [
    "def hitung_error(hasil_numerik, hasil_analitik):\n",
    "  return abs( (hasil_numerik - hasil_analitik ) / hasil_analitik)"
   ]
  },
  {
   "cell_type": "code",
   "execution_count": 8,
   "id": "31979aee",
   "metadata": {},
   "outputs": [
    {
     "name": "stdout",
     "output_type": "stream",
     "text": [
      "Hasil numerik dari turunan fungsi f(x) dengan metode selisih maju\n",
      "x=2, f'(2) = 12.61000000000001\n",
      "Error: 5.083%\n"
     ]
    }
   ],
   "source": [
    "# Metode selisih maju\n",
    "def selisih_maju(fungsi, x, h):\n",
    "  return ( fungsi(x + h) - fungsi(x) ) / h\n",
    "\n",
    "hasil_numerik = selisih_maju(f, x, h)\n",
    "print(\"Hasil numerik dari turunan fungsi f(x) dengan metode selisih maju\")\n",
    "print(f\"x=2, f'(2) = {hasil_numerik}\")\n",
    "\n",
    "error_persen = hitung_error(hasil_numerik, hasil_analitik) * 100\n",
    "print(f\"Error: {error_persen:.3f}%\")"
   ]
  },
  {
   "cell_type": "code",
   "execution_count": 9,
   "id": "e797b33f",
   "metadata": {},
   "outputs": [
    {
     "name": "stdout",
     "output_type": "stream",
     "text": [
      "Hasil numerik dari turunan fungsi f(x) dengan metode selisih tengahan\n",
      "x=2, f'(2) = 12.010000000000009\n",
      "Error: 0.083%\n"
     ]
    }
   ],
   "source": [
    "# Metode selisih tengahan\n",
    "def selisih_tengahan(fungsi, x, h):\n",
    "  return ( fungsi(x + h) - fungsi(x - h) ) / (2 * h)\n",
    "\n",
    "hasil_numerik = selisih_tengahan(f, x, h)\n",
    "print(\"Hasil numerik dari turunan fungsi f(x) dengan metode selisih tengahan\")\n",
    "print(f\"x=2, f'(2) = {hasil_numerik}\")\n",
    "\n",
    "error_persen = hitung_error(hasil_numerik, hasil_analitik) * 100\n",
    "print(f\"Error: {error_persen:.3f}%\")"
   ]
  },
  {
   "cell_type": "code",
   "execution_count": 10,
   "id": "7077c18d",
   "metadata": {},
   "outputs": [
    {
     "name": "stdout",
     "output_type": "stream",
     "text": [
      "Hasil numerik dari turunan fungsi f(x) dengan metode selisih mundur\n",
      "x=2, f'(2) = 11.410000000000009\n",
      "Error: 4.917%\n"
     ]
    }
   ],
   "source": [
    "# Metode selisih mundur\n",
    "def selisih_mundur(fungsi, x, h):\n",
    "  return ( fungsi(x) - fungsi(x - h) ) / h\n",
    "\n",
    "hasil_numerik = selisih_mundur(f, x, h)\n",
    "print(\"Hasil numerik dari turunan fungsi f(x) dengan metode selisih mundur\")\n",
    "print(f\"x=2, f'(2) = {hasil_numerik}\")\n",
    "\n",
    "error_persen = hitung_error(hasil_numerik, hasil_analitik) * 100\n",
    "print(f\"Error: {error_persen:.3f}%\")"
   ]
  }
 ],
 "metadata": {
  "kernelspec": {
   "display_name": ".venv",
   "language": "python",
   "name": "python3"
  },
  "language_info": {
   "codemirror_mode": {
    "name": "ipython",
    "version": 3
   },
   "file_extension": ".py",
   "mimetype": "text/x-python",
   "name": "python",
   "nbconvert_exporter": "python",
   "pygments_lexer": "ipython3",
   "version": "3.10.16"
  }
 },
 "nbformat": 4,
 "nbformat_minor": 5
}
